{
  "nbformat": 4,
  "nbformat_minor": 0,
  "metadata": {
    "colab": {
      "provenance": [],
      "collapsed_sections": [
        "9pUVUsEru-ap",
        "aY8fWzEopzwy",
        "whzUARq9X3ai"
      ],
      "toc_visible": true,
      "authorship_tag": "ABX9TyPU6UgEQvj3m7Iu3jqMbh/U",
      "include_colab_link": true
    },
    "kernelspec": {
      "name": "python3",
      "display_name": "Python 3"
    },
    "language_info": {
      "name": "python"
    }
  },
  "cells": [
    {
      "cell_type": "markdown",
      "metadata": {
        "id": "view-in-github",
        "colab_type": "text"
      },
      "source": [
        "<a href=\"https://colab.research.google.com/github/MihirPatel204/Healthify/blob/main/Data_Science/Learning_numpy.ipynb\" target=\"_parent\"><img src=\"https://colab.research.google.com/assets/colab-badge.svg\" alt=\"Open In Colab\"/></a>"
      ]
    },
    {
      "cell_type": "markdown",
      "source": [
        "# Learing Numpy Basics"
      ],
      "metadata": {
        "id": "9pUVUsEru-ap"
      }
    },
    {
      "cell_type": "markdown",
      "source": [
        "### Making array with list\n"
      ],
      "metadata": {
        "id": "aY8fWzEopzwy"
      }
    },
    {
      "cell_type": "code",
      "source": [
        "import numpy as np\n",
        "\n",
        "arr_1d = np.array([1,2,3,4,5])\n",
        "print(\"array 1d: \" ,arr_1d)\n",
        "\n",
        "arr_2d = np.array([[1,2,3],[1,2,3]])\n",
        "print(\"array 2d : \\n\" , arr_2d , \"\\n\")"
      ],
      "metadata": {
        "id": "oJBKCkmMvCz_",
        "colab": {
          "base_uri": "https://localhost:8080/"
        },
        "outputId": "c1f7fe18-9370-4aff-cabc-b768a33b5e46"
      },
      "execution_count": null,
      "outputs": [
        {
          "output_type": "stream",
          "name": "stdout",
          "text": [
            "array 1d:  [1 2 3 4 5]\n",
            "array 2d : \n",
            " [[1 2 3]\n",
            " [1 2 3]] \n",
            "\n"
          ]
        }
      ]
    },
    {
      "cell_type": "markdown",
      "source": [
        "### Metric Genration"
      ],
      "metadata": {
        "id": "wMjOegXnCjXc"
      }
    },
    {
      "cell_type": "code",
      "source": [
        "# basic metrics of zeros, ones, randoms and in sequence form numpy in bulid methods.\n",
        "\n",
        "zeros = np.zeros((2,4))\n",
        "print(\"array of zeros : \\n\", zeros)\n",
        "\n",
        "ones = np.ones((3,4))\n",
        "print(\"array of ones : \\n\", ones)\n",
        "\n",
        "randoms = np.random.random((3,3))\n",
        "print(\"array of randoms : \\n\", np.floor(randoms * 100))\n",
        "\n",
        "sequence = np.arange(1,10,2)\n",
        "print(\"array in sequance : \\n\", sequence)"
      ],
      "metadata": {
        "colab": {
          "base_uri": "https://localhost:8080/"
        },
        "id": "JXMzC8B1C87c",
        "outputId": "e21f9d83-9b1f-4807-a937-502c6a145aab"
      },
      "execution_count": null,
      "outputs": [
        {
          "output_type": "stream",
          "name": "stdout",
          "text": [
            "array of zeros : \n",
            " [[0. 0. 0. 0.]\n",
            " [0. 0. 0. 0.]]\n",
            "array of ones : \n",
            " [[1. 1. 1. 1.]\n",
            " [1. 1. 1. 1.]\n",
            " [1. 1. 1. 1.]]\n",
            "array of randoms : \n",
            " [[24. 53. 87.]\n",
            " [59. 95. 53.]\n",
            " [71. 55. 60.]]\n",
            "array in sequance : \n",
            " [1 3 5 7 9]\n"
          ]
        }
      ]
    },
    {
      "cell_type": "markdown",
      "source": [
        "### Vector, Metric and Tensor"
      ],
      "metadata": {
        "id": "ap-Bj5cVG2g1"
      }
    },
    {
      "cell_type": "markdown",
      "source": [
        "* vector is 1 dimension array  \n",
        "* matrics is 2 dimension array  \n",
        "* tensor is more than 2 dimension array"
      ],
      "metadata": {
        "id": "DKi-Lz8eNu65"
      }
    },
    {
      "cell_type": "code",
      "source": [
        "vector = np.array([1,2,3])\n",
        "print(\"vector : \\n\", vector)\n",
        "\n",
        "matrix = np.array([[1,2,3],[1,2,3]])\n",
        "print(\"matrix : \\n\", matrix)\n",
        "\n",
        "tensor = np.array([[[1,2,3],[1,2,3]],\n",
        "                    [[1,2,3],[1,2,3]]])\n",
        "print(\"tensor : \\n\", tensor)"
      ],
      "metadata": {
        "id": "MBVk8QsUH4UN",
        "colab": {
          "base_uri": "https://localhost:8080/"
        },
        "outputId": "f53c97ea-6b80-4bbb-c69d-c391b083e4ab"
      },
      "execution_count": null,
      "outputs": [
        {
          "output_type": "stream",
          "name": "stdout",
          "text": [
            "vector : \n",
            " [1 2 3]\n",
            "matrix : \n",
            " [[1 2 3]\n",
            " [1 2 3]]\n",
            "tensor : \n",
            " [[[1 2 3]\n",
            "  [1 2 3]]\n",
            "\n",
            " [[1 2 3]\n",
            "  [1 2 3]]]\n"
          ]
        }
      ]
    },
    {
      "cell_type": "markdown",
      "source": [
        "### Array Properties"
      ],
      "metadata": {
        "id": "ISPWp1aYMgEc"
      }
    },
    {
      "cell_type": "code",
      "source": [
        "# properties of the array in numpy\n",
        "\n",
        "arr = np.array([[1,2,3],[9,8,7]])\n",
        "print(\"Shape : \", arr.shape)\n",
        "print(\"Dimension : \", arr.ndim)\n",
        "print(\"Size : \", arr.size)\n",
        "print(\"DType : \", arr.dtype)"
      ],
      "metadata": {
        "id": "L_dpUgqHMvIc",
        "colab": {
          "base_uri": "https://localhost:8080/"
        },
        "outputId": "e0128393-27df-43ab-973e-d75ee9ca6b36"
      },
      "execution_count": null,
      "outputs": [
        {
          "output_type": "stream",
          "name": "stdout",
          "text": [
            "Shape :  (2, 3)\n",
            "Dimension :  2\n",
            "Size :  6\n",
            "DType :  int64\n"
          ]
        }
      ]
    },
    {
      "cell_type": "markdown",
      "source": [
        "### Array Methods"
      ],
      "metadata": {
        "id": "i_JqIVHZP0wK"
      }
    },
    {
      "cell_type": "code",
      "source": [
        "arr = np.arange(10)\n",
        "print(\"original array : \", arr)\n",
        "\n",
        "reshaped = arr.reshape(2,5)\n",
        "print(\"reshaped array : \\n\", reshaped)\n",
        "\n",
        "flattened = reshaped.flatten()\n",
        "print(\"flattened array : \\n\", flattened)\n",
        "\n",
        "#returns a view instead of copy\n",
        "raveled = reshaped.ravel()\n",
        "print(\"raveled array : \\n\", raveled)\n",
        "\n",
        "#change dimension from (2,5) to (5,2) in example array\n",
        "transposed = reshaped.transpose()\n",
        "print(\"transposed array : \\n\", transposed)"
      ],
      "metadata": {
        "colab": {
          "base_uri": "https://localhost:8080/"
        },
        "id": "8KKAQGYPQAio",
        "outputId": "15245213-b81e-4856-bd48-c354848b05c6"
      },
      "execution_count": null,
      "outputs": [
        {
          "output_type": "stream",
          "name": "stdout",
          "text": [
            "original array :  [0 1 2 3 4 5 6 7 8 9]\n",
            "reshaped array : \n",
            " [[0 1 2 3 4]\n",
            " [5 6 7 8 9]]\n",
            "flattened array : \n",
            " [0 1 2 3 4 5 6 7 8 9]\n",
            "raveled array : \n",
            " [0 1 2 3 4 5 6 7 8 9]\n",
            "transposed array : \n",
            " [[0 5]\n",
            " [1 6]\n",
            " [2 7]\n",
            " [3 8]\n",
            " [4 9]]\n"
          ]
        }
      ]
    },
    {
      "cell_type": "markdown",
      "source": [
        "### Adding And Removing Data"
      ],
      "metadata": {
        "id": "BC0D5_9OABd9"
      }
    },
    {
      "cell_type": "code",
      "source": [
        "# combineing array\n",
        "array1 = np.array([1, 2, 3, 4, 5])\n",
        "array2 = np.array([3, 5, 6, 7, 8])\n",
        "\n",
        "combined = np.concatenate((array1,array2))\n",
        "print(combined)\n",
        "\n",
        "#adding or Removeing element to array gives new Array\n",
        "\n",
        "new_array = np.append(array1,10)\n",
        "print(\"appending element in array\", new_array)\n",
        "\n",
        "new_array = np.insert(array2,1,4)\n",
        "print(\"inserting element in array\", new_array)\n",
        "\n",
        "new_array = np.delete(array2,1)\n",
        "print(\"deleting element in array\", new_array)"
      ],
      "metadata": {
        "id": "kUc9nvb0AIne",
        "colab": {
          "base_uri": "https://localhost:8080/"
        },
        "outputId": "d8177cc6-42f8-4d1c-f57b-9d748d300a1a"
      },
      "execution_count": null,
      "outputs": [
        {
          "output_type": "stream",
          "name": "stdout",
          "text": [
            "[1 2 3 4 5 3 5 6 7 8]\n",
            "appending element in array [ 1  2  3  4  5 10]\n",
            "inserting element in array [3 4 5 6 7 8]\n",
            "deleting element in array [3 6 7 8]\n"
          ]
        }
      ]
    },
    {
      "cell_type": "markdown",
      "source": [
        "# Opration On Numpy Array"
      ],
      "metadata": {
        "id": "whzUARq9X3ai"
      }
    },
    {
      "cell_type": "markdown",
      "source": [
        "### Basic Slicing"
      ],
      "metadata": {
        "id": "l_hsgSHeX-tQ"
      }
    },
    {
      "cell_type": "code",
      "source": [
        "# Slicing in vectors\n",
        "import numpy as np\n",
        "\n",
        "arr = np.array([1,2,3,4,5,6,7,8,9,10])\n",
        "\n",
        "print(\"Basic Slicing :\", arr[3::])\n",
        "print(\"Basic Slicing :\", arr[3:7])\n",
        "print(\"with steps : \", arr[1:9:2])\n",
        "print(\"reverse : \", arr[::-1])\n",
        "print(\"reverse slicing : \", arr[-5:-1])\n"
      ],
      "metadata": {
        "colab": {
          "base_uri": "https://localhost:8080/"
        },
        "id": "koe6SRd_zuUJ",
        "outputId": "105cfc81-ca16-4fb6-982f-9707b834d9fa"
      },
      "execution_count": null,
      "outputs": [
        {
          "output_type": "stream",
          "name": "stdout",
          "text": [
            "Basic Slicing : [ 4  5  6  7  8  9 10]\n",
            "Basic Slicing : [4 5 6 7]\n",
            "with steps :  [2 4 6 8]\n",
            "reverse :  [10  9  8  7  6  5  4  3  2  1]\n",
            "reverse slicing :  [6 7 8 9]\n"
          ]
        }
      ]
    },
    {
      "cell_type": "code",
      "source": [
        "# slicing in metrics\n",
        "\n",
        "arr_2d = np.array([[1,2,3],\n",
        "                   [4,5,6],\n",
        "                   [7,8,9]])\n",
        "print(\"specific element : \", arr_2d[1,2])\n",
        "print(\"entire row : \", arr_2d[1])\n",
        "print(\"entire row after slicing : \\n\", arr_2d[1::])   # 1:: and 1: is same\n",
        "print(\"entire column : \", arr_2d[:, 1])               # :, means all rows\n",
        "print(\"entire columns after slicing : \\n\", arr_2d[:, 1::])"
      ],
      "metadata": {
        "colab": {
          "base_uri": "https://localhost:8080/"
        },
        "id": "44_rFoif1L5S",
        "outputId": "130b5ef4-2c7d-4e24-9a1b-a3bb3b7e7047"
      },
      "execution_count": null,
      "outputs": [
        {
          "output_type": "stream",
          "name": "stdout",
          "text": [
            "specific element :  6\n",
            "entire row :  [4 5 6]\n",
            "entire row after slicing : \n",
            " [[4 5 6]\n",
            " [7 8 9]]\n",
            "entire column :  [2 5 8]\n",
            "entire columns after slicing : \n",
            " [[2 3]\n",
            " [5 6]\n",
            " [8 9]]\n"
          ]
        }
      ]
    },
    {
      "cell_type": "markdown",
      "source": [
        "### Sorting"
      ],
      "metadata": {
        "id": "UqTazBiO3ZHw"
      }
    },
    {
      "cell_type": "code",
      "source": [
        "unsorted = np.array([1,5,7,89,34,6,56,870])\n",
        "print(\"sorted array : \", np.sort(unsorted))\n",
        "\n",
        "unsorted_2d = np.array([[1,13,7,89],\n",
        "                        [9,4,1,22],\n",
        "                        [12,3,10,6]])\n",
        "print(\"sorted array bt column : \\n\", np.sort(unsorted_2d, axis=0))\n",
        "print(\"sorted array bt row : \\n\", np.sort(unsorted_2d, axis=1))"
      ],
      "metadata": {
        "colab": {
          "base_uri": "https://localhost:8080/"
        },
        "id": "gJ_mdgJP3oOa",
        "outputId": "16bf35b0-7b5d-4d3e-e324-502086250117"
      },
      "execution_count": null,
      "outputs": [
        {
          "output_type": "stream",
          "name": "stdout",
          "text": [
            "sorted array :  [  1   5   6   7  34  56  89 870]\n",
            "sorted array bt column : \n",
            " [[ 1  3  1  6]\n",
            " [ 9  4  7 22]\n",
            " [12 13 10 89]]\n",
            "sorted array bt row : \n",
            " [[ 1  7 13 89]\n",
            " [ 1  4  9 22]\n",
            " [ 3  6 10 12]]\n"
          ]
        }
      ]
    },
    {
      "cell_type": "markdown",
      "source": [
        "### Filter"
      ],
      "metadata": {
        "id": "37B1bzn5CPm4"
      }
    },
    {
      "cell_type": "markdown",
      "source": [
        "**Mask :**  \n",
        "Numpy can filter mask in array like numbers[mask]  \n",
        "Or expresion can directly passed in Array like numbers[numbers % 2 == 0]  "
      ],
      "metadata": {
        "id": "g1y0W69jWTym"
      }
    },
    {
      "cell_type": "code",
      "source": [
        "numbers = np.array([1,2,3,4,5,6,7,8,9,10])\n",
        "even_numbers = numbers[numbers % 2 == 0]\n",
        "print(\"even numbers : \", even_numbers)\n",
        "\n",
        "\n",
        "mask = numbers > 5\n",
        "print(\"mask : \", numbers[mask])\n"
      ],
      "metadata": {
        "colab": {
          "base_uri": "https://localhost:8080/"
        },
        "id": "YcBHOdqGCXaF",
        "outputId": "183c5831-391e-4cd8-ce40-9bde77ae6188"
      },
      "execution_count": null,
      "outputs": [
        {
          "output_type": "stream",
          "name": "stdout",
          "text": [
            "even numbers :  [ 2  4  6  8 10]\n",
            "mask :  [ 6  7  8  9 10]\n"
          ]
        }
      ]
    },
    {
      "cell_type": "markdown",
      "source": [
        "**Fancy indexing VS np.where()**  \n",
        "In Numpy indexes can be passed in Array like numbers[indices]  \n",
        "np.Where gives indices from expresion."
      ],
      "metadata": {
        "id": "YKXVrXGzSWBi"
      }
    },
    {
      "cell_type": "code",
      "source": [
        "numbers = np.array([1,2,3,4,5,6,7,8,9,10])\n",
        "\n",
        "indices = [0,3,5]\n",
        "print(numbers[indices])\n",
        "\n",
        "where_result = np.where(numbers > 5)\n",
        "print(where_result)\n",
        "print(\"NP where : \", numbers[where_result])"
      ],
      "metadata": {
        "colab": {
          "base_uri": "https://localhost:8080/"
        },
        "id": "OKR5Pr1OSiDv",
        "outputId": "0dd6919b-36af-47df-e326-7a75eff9f7fe"
      },
      "execution_count": null,
      "outputs": [
        {
          "output_type": "stream",
          "name": "stdout",
          "text": [
            "[1 4 6]\n",
            "(array([5, 6, 7, 8, 9]),)\n",
            "NP where :  [ 6  7  8  9 10]\n"
          ]
        }
      ]
    },
    {
      "cell_type": "code",
      "source": [
        "numbers = np.array([1,2,3,4,5,6,7,8,9,10])\n",
        "\n",
        "conditional_array = np.where(numbers > 5 , numbers*4 , numbers)\n",
        "print(conditional_array)\n",
        "\n",
        "# In above example np.where can be explain by if else.\n",
        "# if(numbers < 5){\n",
        "#   numbers*4\n",
        "# } else {\n",
        "#   numbers}\n",
        "\n",
        "conditional_array2 = np.where(numbers > 5 , \"greater\" , \"less\")\n",
        "print(conditional_array2 )"
      ],
      "metadata": {
        "id": "ONiJGK7wb7Hy",
        "colab": {
          "base_uri": "https://localhost:8080/"
        },
        "outputId": "87600888-9c47-464a-aa63-e193db27abf2"
      },
      "execution_count": null,
      "outputs": [
        {
          "output_type": "stream",
          "name": "stdout",
          "text": [
            "[ 1  2  3  4  5 24 28 32 36 40]\n",
            "['less' 'less' 'less' 'less' 'less' 'greater' 'greater' 'greater'\n",
            " 'greater' 'greater']\n"
          ]
        }
      ]
    },
    {
      "cell_type": "markdown",
      "source": [
        "### Array Compatibilty"
      ],
      "metadata": {
        "id": "GvDzf5XOxEOE"
      }
    },
    {
      "cell_type": "code",
      "source": [
        "a = np.array([1,2,3])\n",
        "b = np.array([4,5,6])\n",
        "c = np.array([7,8,\"c\"])\n",
        "\n",
        "print(\"compatibilty shape : \", a.shape == b.shape == c.shape)\n",
        "print(\"compatibilty data-type : \", a.dtype == b.dtype == c.dtype)"
      ],
      "metadata": {
        "colab": {
          "base_uri": "https://localhost:8080/"
        },
        "id": "F_hUsqUFxVuN",
        "outputId": "79c61bb4-6dfd-4a32-9b7d-ed180cc7a4a7"
      },
      "execution_count": null,
      "outputs": [
        {
          "output_type": "stream",
          "name": "stdout",
          "text": [
            "compatibilty shape :  True\n",
            "compatibilty data-type :  False\n"
          ]
        }
      ]
    },
    {
      "cell_type": "markdown",
      "source": [
        "### Adding Rows and Columns"
      ],
      "metadata": {
        "id": "QRXhdgm1yJhv"
      }
    },
    {
      "cell_type": "code",
      "source": [
        "original = np.array([[1,2,3],[4,5,6]])\n",
        "print(\"Original : \\n\", original)\n",
        "\n",
        "new_row = np.array([7,8,9])\n",
        "with_new_row = np.vstack((original, new_row))\n",
        "print(\"with new row : \\n\", with_new_row)\n",
        "\n",
        "new_column = np.array([[10],[11]])\n",
        "with_new_column = np.hstack((original, new_column))\n",
        "print(\"with new column : \\n\", with_new_column)\n"
      ],
      "metadata": {
        "colab": {
          "base_uri": "https://localhost:8080/"
        },
        "id": "xKdsvN8lyO8K",
        "outputId": "5ffe3251-2945-4fa1-8b8e-2841fc47d21c"
      },
      "execution_count": null,
      "outputs": [
        {
          "output_type": "stream",
          "name": "stdout",
          "text": [
            "Original : \n",
            " [[1 2 3]\n",
            " [4 5 6]]\n",
            "with new row : \n",
            " [[1 2 3]\n",
            " [4 5 6]\n",
            " [7 8 9]]\n",
            "with new column : \n",
            " [[ 1  2  3 10]\n",
            " [ 4  5  6 11]]\n"
          ]
        }
      ]
    },
    {
      "cell_type": "markdown",
      "source": [
        "# Practice"
      ],
      "metadata": {
        "id": "mLCy6VMdWfUZ"
      }
    },
    {
      "cell_type": "code",
      "source": [
        "import numpy as np\n",
        "import matplotlib.pyplot as plt\n",
        "\n",
        "# Data Structure: [restaurant_id ,2021,2022,2023,2024]\n",
        "seles_data = np.array([\n",
        "    [1,150000,180000,220000,250000],\n",
        "    [2,120000,140000,160000,190000],\n",
        "    [3,200000,230000,260000,300000],\n",
        "    [4,180000,210000,240000,270000],\n",
        "    [5,160000,185000,205000,230000]\n",
        "])\n",
        "\n",
        "print(\"===Zomato seles analysis===\")\n",
        "print(\"seles data Shape : \", seles_data.shape)"
      ],
      "metadata": {
        "colab": {
          "base_uri": "https://localhost:8080/"
        },
        "id": "Wm0s-Sk0WoSt",
        "outputId": "f7bb510b-fdb0-4b10-ea68-7e5709eb675a"
      },
      "execution_count": null,
      "outputs": [
        {
          "output_type": "stream",
          "name": "stdout",
          "text": [
            "===Zomato seles analysis===\n",
            "seles data Shape :  (5, 5)\n"
          ]
        }
      ]
    },
    {
      "cell_type": "code",
      "source": [
        "print(seles_data[:, 1:]) #data without IDs\n",
        "\n",
        "# seles per year\n",
        "yearly_total = np.sum(seles_data[:, 1:], axis=0)\n",
        "print(\"yearly total : \\n\", yearly_total)\n",
        "\n",
        "# min seles per restaurant\n",
        "min_seles = np.min(seles_data[:, 1:] , axis=1)\n",
        "print(\"Min seles per restaurant : \\n\", min_seles)\n",
        "\n",
        "# Max seles per year\n",
        "Max_seles = np.max(seles_data[:, 1:] , axis=0)\n",
        "print(\"Max seles per year : \\n\", Max_seles)\n",
        "\n",
        "#Average seles per restaurant\n",
        "average_seles = np.mean(seles_data[:, 1:], axis=1)\n",
        "print(\"Average seles per restaurant : \\n\", average_seles)\n",
        "\n",
        "#cumulative seles of restaurant\n",
        "cumulative_seles = np.cumsum(seles_data[:, 1:], axis=1)\n",
        "print(\"cumulative seles of restaurant : \\n\", cumulative_seles)"
      ],
      "metadata": {
        "colab": {
          "base_uri": "https://localhost:8080/"
        },
        "id": "ZuKMtl0dZlcA",
        "outputId": "3c3a97e7-4078-4f50-a94f-008de79c215c"
      },
      "execution_count": null,
      "outputs": [
        {
          "output_type": "stream",
          "name": "stdout",
          "text": [
            "[[150000 180000 220000 250000]\n",
            " [120000 140000 160000 190000]\n",
            " [200000 230000 260000 300000]\n",
            " [180000 210000 240000 270000]\n",
            " [160000 185000 205000 230000]]\n",
            "yearly total : \n",
            " [ 810000  945000 1085000 1240000]\n",
            "Min seles per restaurant : \n",
            " [150000 120000 200000 180000 160000]\n",
            "Max seles per year : \n",
            " [200000 230000 260000 300000]\n",
            "Average seles per restaurant : \n",
            " [200000. 152500. 247500. 225000. 195000.]\n",
            "cumulative seles of restaurant : \n",
            " [[150000 330000 550000 800000]\n",
            " [120000 260000 420000 610000]\n",
            " [200000 430000 690000 990000]\n",
            " [180000 390000 630000 900000]\n",
            " [160000 345000 550000 780000]]\n"
          ]
        }
      ]
    },
    {
      "cell_type": "code",
      "source": [
        "# Vector opration\n",
        "\n",
        "vector1 = np.array([1,2,3,4,5])\n",
        "vector2 = np.array([6,7,8,9,10])\n",
        "\n",
        "print(\"vector addition : \" , vector1 + vector2)\n",
        "\n",
        "print(\"vector multiplication : \" , vector1 * vector2)\n",
        "\n",
        "print(\"vector Dot product : \", np.dot(vector1, vector2))\n",
        "\n",
        "angle = np.arccos(np.dot(vector1, vector2) / (np.linalg.norm(vector1) * np.linalg.norm(vector2)))\n",
        "print(\"angle between vectors : \", np.degrees(angle))"
      ],
      "metadata": {
        "colab": {
          "base_uri": "https://localhost:8080/"
        },
        "id": "6gGUVNE3j5B2",
        "outputId": "6dd047e7-3d92-4d20-de4b-e1ad6a623b54"
      },
      "execution_count": null,
      "outputs": [
        {
          "output_type": "stream",
          "name": "stdout",
          "text": [
            "vector addition :  [ 7  9 11 13 15]\n",
            "vector multiplication :  [ 6 14 24 36 50]\n",
            "vector Dot product :  130\n",
            "angle between vectors :  15.214413958603176\n"
          ]
        }
      ]
    },
    {
      "cell_type": "code",
      "source": [
        "restaurant_type = np.array([\"pizza\" , \"burger\" , \"cafe\", \"indian\"])\n",
        "vectorized_upper = np.vectorize(str.upper)\n",
        "print(vectorized_upper(restaurant_type))\n",
        "\n",
        "monthly_Avg = seles_data[:, 1:] / 12\n",
        "# HERE 12 IS SCELER NUMBER AND BRODCASTED SO 12 DIVIEDS ALL THE 25 VALUES\n",
        "print(\"monthly Average : \\n\", np.around(monthly_Avg))"
      ],
      "metadata": {
        "colab": {
          "base_uri": "https://localhost:8080/"
        },
        "id": "aPPBspoinruA",
        "outputId": "fc442b5f-b7b4-4240-c5bf-dcd652697a52"
      },
      "execution_count": null,
      "outputs": [
        {
          "output_type": "stream",
          "name": "stdout",
          "text": [
            "['PIZZA' 'BURGER' 'CAFE' 'INDIAN']\n",
            "monthly Average : \n",
            " [[12500. 15000. 18333. 20833.]\n",
            " [10000. 11667. 13333. 15833.]\n",
            " [16667. 19167. 21667. 25000.]\n",
            " [15000. 17500. 20000. 22500.]\n",
            " [13333. 15417. 17083. 19167.]]\n"
          ]
        }
      ]
    },
    {
      "cell_type": "markdown",
      "source": [
        "# Practice 2"
      ],
      "metadata": {
        "id": "y3bIKlxQ6PnZ"
      }
    },
    {
      "cell_type": "code",
      "source": [
        "import numpy as np\n",
        "import matplotlib.pyplot as plt\n",
        "\n",
        "# Saving and extracing data in file from in numpy\n",
        "\n",
        "array1 = np.array([[1,2,3],[4,5,6]])\n",
        "array2 = np.random.rand(3,3)\n",
        "array3 = np.zeros((4,4))\n",
        "\n",
        "np.save('array1.npy' , array1)\n",
        "np.save('array2.npy' , array2)\n",
        "np.save('array3.npy' , array3)\n",
        "\n",
        "loaded_array = np.load('array1.npy')\n",
        "print(loaded_array)"
      ],
      "metadata": {
        "colab": {
          "base_uri": "https://localhost:8080/"
        },
        "id": "pt7wMBrG6R5p",
        "outputId": "41ef0092-6428-4db8-cb21-9dacc677fa16"
      },
      "execution_count": null,
      "outputs": [
        {
          "output_type": "stream",
          "name": "stdout",
          "text": [
            "[[1 2 3]\n",
            " [4 5 6]]\n"
          ]
        }
      ]
    }
  ]
}